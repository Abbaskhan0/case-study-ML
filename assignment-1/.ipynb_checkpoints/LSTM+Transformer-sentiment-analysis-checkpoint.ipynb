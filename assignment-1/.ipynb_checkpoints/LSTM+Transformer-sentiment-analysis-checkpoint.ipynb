{
 "cells": [
  {
   "cell_type": "markdown",
   "id": "6ce27ef8",
   "metadata": {
    "papermill": {
     "duration": 0.004891,
     "end_time": "2025-04-20T09:31:27.170726",
     "exception": false,
     "start_time": "2025-04-20T09:31:27.165835",
     "status": "completed"
    },
    "tags": []
   },
   "source": [
    "# Perform sentiment analysis using LSTM and Transformer Networks"
   ]
  },
  {
   "cell_type": "markdown",
   "id": "52bfdfca",
   "metadata": {
    "papermill": {
     "duration": 0.003736,
     "end_time": "2025-04-20T09:31:27.178994",
     "exception": false,
     "start_time": "2025-04-20T09:31:27.175258",
     "status": "completed"
    },
    "tags": []
   },
   "source": [
    "## Importing Required Libraries and Modules"
   ]
  },
  {
   "cell_type": "code",
   "execution_count": 1,
   "id": "0f160a20",
   "metadata": {
    "execution": {
     "iopub.execute_input": "2025-04-20T09:31:27.188983Z",
     "iopub.status.busy": "2025-04-20T09:31:27.188674Z",
     "iopub.status.idle": "2025-04-20T09:31:44.514739Z",
     "shell.execute_reply": "2025-04-20T09:31:44.513887Z"
    },
    "papermill": {
     "duration": 17.333321,
     "end_time": "2025-04-20T09:31:44.516249",
     "exception": false,
     "start_time": "2025-04-20T09:31:27.182928",
     "status": "completed"
    },
    "tags": []
   },
   "outputs": [
    {
     "name": "stderr",
     "output_type": "stream",
     "text": [
      "2025-05-03 19:08:54.232062: I tensorflow/core/util/port.cc:153] oneDNN custom operations are on. You may see slightly different numerical results due to floating-point round-off errors from different computation orders. To turn them off, set the environment variable `TF_ENABLE_ONEDNN_OPTS=0`.\n",
      "2025-05-03 19:08:54.244266: E external/local_xla/xla/stream_executor/cuda/cuda_fft.cc:467] Unable to register cuFFT factory: Attempting to register factory for plugin cuFFT when one has already been registered\n",
      "WARNING: All log messages before absl::InitializeLog() is called are written to STDERR\n",
      "E0000 00:00:1746279534.259229   13953 cuda_dnn.cc:8579] Unable to register cuDNN factory: Attempting to register factory for plugin cuDNN when one has already been registered\n",
      "E0000 00:00:1746279534.263528   13953 cuda_blas.cc:1407] Unable to register cuBLAS factory: Attempting to register factory for plugin cuBLAS when one has already been registered\n",
      "W0000 00:00:1746279534.275213   13953 computation_placer.cc:177] computation placer already registered. Please check linkage and avoid linking the same target more than once.\n",
      "W0000 00:00:1746279534.275229   13953 computation_placer.cc:177] computation placer already registered. Please check linkage and avoid linking the same target more than once.\n",
      "W0000 00:00:1746279534.275231   13953 computation_placer.cc:177] computation placer already registered. Please check linkage and avoid linking the same target more than once.\n",
      "W0000 00:00:1746279534.275232   13953 computation_placer.cc:177] computation placer already registered. Please check linkage and avoid linking the same target more than once.\n",
      "2025-05-03 19:08:54.278778: I tensorflow/core/platform/cpu_feature_guard.cc:210] This TensorFlow binary is optimized to use available CPU instructions in performance-critical operations.\n",
      "To enable the following instructions: AVX2 AVX512F AVX512_VNNI FMA, in other operations, rebuild TensorFlow with the appropriate compiler flags.\n",
      "[nltk_data] Downloading package stopwords to /home/abbas/nltk_data...\n",
      "[nltk_data]   Package stopwords is already up-to-date!\n",
      "[nltk_data] Downloading package punkt to /home/abbas/nltk_data...\n",
      "[nltk_data]   Package punkt is already up-to-date!\n"
     ]
    }
   ],
   "source": [
    "import os\n",
    "import re\n",
    "import json\n",
    "import numpy as np\n",
    "import pandas as pd\n",
    "import matplotlib.pyplot as plt\n",
    "import seaborn as sns\n",
    "from zipfile import ZipFile\n",
    "from tensorflow.keras.models import Sequential\n",
    "from tensorflow.keras.layers import Dense, Embedding, LSTM, Dropout\n",
    "from tensorflow.keras.preprocessing.text import Tokenizer\n",
    "from tensorflow.keras.preprocessing.sequence import pad_sequences\n",
    "from tensorflow.keras.callbacks import EarlyStopping\n",
    "from sklearn.model_selection import train_test_split\n",
    "import nltk\n",
    "nltk.download('stopwords')\n",
    "nltk.download('punkt')\n",
    "from nltk.corpus import stopwords\n",
    "from bs4 import BeautifulSoup   "
   ]
  },
  {
   "cell_type": "markdown",
   "id": "09ea37da",
   "metadata": {
    "papermill": {
     "duration": 0.004039,
     "end_time": "2025-04-20T09:31:44.525055",
     "exception": false,
     "start_time": "2025-04-20T09:31:44.521016",
     "status": "completed"
    },
    "tags": []
   },
   "source": [
    "## Configuring variables"
   ]
  },
  {
   "cell_type": "code",
   "execution_count": 2,
   "id": "a057b90c",
   "metadata": {},
   "outputs": [],
   "source": [
    "dataPath  = \"Data/IMDB Dataset.csv\"\n",
    "testDataPath = \"Data/IMDB_Dataset_test.csv\"\n",
    "modelPath = \"Model/lstm_model.keras\"\n"
   ]
  },
  {
   "cell_type": "code",
   "execution_count": 3,
   "id": "c8c3eb44",
   "metadata": {
    "execution": {
     "iopub.execute_input": "2025-04-20T09:31:44.534744Z",
     "iopub.status.busy": "2025-04-20T09:31:44.534207Z",
     "iopub.status.idle": "2025-04-20T09:31:45.799988Z",
     "shell.execute_reply": "2025-04-20T09:31:45.799177Z"
    },
    "papermill": {
     "duration": 1.272224,
     "end_time": "2025-04-20T09:31:45.801419",
     "exception": false,
     "start_time": "2025-04-20T09:31:44.529195",
     "status": "completed"
    },
    "tags": []
   },
   "outputs": [],
   "source": [
    "data = pd.read_csv(dataPath)\n",
    "# data =data[:2000]\n",
    "test_samples = data.sample(n=200, random_state=42)\n",
    "data = data.drop(test_samples.index)\n",
    "test_samples.to_csv(testDataPath, index=False)"
   ]
  },
  {
   "cell_type": "markdown",
   "id": "61e88022",
   "metadata": {
    "papermill": {
     "duration": 0.003844,
     "end_time": "2025-04-20T09:31:45.809653",
     "exception": false,
     "start_time": "2025-04-20T09:31:45.805809",
     "status": "completed"
    },
    "tags": []
   },
   "source": [
    "## Data understanding & preporcessing"
   ]
  },
  {
   "cell_type": "code",
   "execution_count": 4,
   "id": "4da1306c",
   "metadata": {
    "execution": {
     "iopub.execute_input": "2025-04-20T09:31:45.819742Z",
     "iopub.status.busy": "2025-04-20T09:31:45.819459Z",
     "iopub.status.idle": "2025-04-20T09:31:45.824847Z",
     "shell.execute_reply": "2025-04-20T09:31:45.823868Z"
    },
    "papermill": {
     "duration": 0.012482,
     "end_time": "2025-04-20T09:31:45.826185",
     "exception": false,
     "start_time": "2025-04-20T09:31:45.813703",
     "status": "completed"
    },
    "tags": []
   },
   "outputs": [
    {
     "name": "stdout",
     "output_type": "stream",
     "text": [
      "(49800, 2)\n"
     ]
    }
   ],
   "source": [
    "print(data.shape)"
   ]
  },
  {
   "cell_type": "code",
   "execution_count": 5,
   "id": "b1c72b32",
   "metadata": {
    "execution": {
     "iopub.execute_input": "2025-04-20T09:31:45.847311Z",
     "iopub.status.busy": "2025-04-20T09:31:45.847007Z",
     "iopub.status.idle": "2025-04-20T09:31:45.869904Z",
     "shell.execute_reply": "2025-04-20T09:31:45.869028Z"
    },
    "papermill": {
     "duration": 0.029615,
     "end_time": "2025-04-20T09:31:45.871270",
     "exception": false,
     "start_time": "2025-04-20T09:31:45.841655",
     "status": "completed"
    },
    "tags": []
   },
   "outputs": [
    {
     "data": {
      "text/html": [
       "<div>\n",
       "<style scoped>\n",
       "    .dataframe tbody tr th:only-of-type {\n",
       "        vertical-align: middle;\n",
       "    }\n",
       "\n",
       "    .dataframe tbody tr th {\n",
       "        vertical-align: top;\n",
       "    }\n",
       "\n",
       "    .dataframe thead th {\n",
       "        text-align: right;\n",
       "    }\n",
       "</style>\n",
       "<table border=\"1\" class=\"dataframe\">\n",
       "  <thead>\n",
       "    <tr style=\"text-align: right;\">\n",
       "      <th></th>\n",
       "      <th>review</th>\n",
       "      <th>sentiment</th>\n",
       "    </tr>\n",
       "  </thead>\n",
       "  <tbody>\n",
       "    <tr>\n",
       "      <th>0</th>\n",
       "      <td>One of the other reviewers has mentioned that ...</td>\n",
       "      <td>positive</td>\n",
       "    </tr>\n",
       "    <tr>\n",
       "      <th>1</th>\n",
       "      <td>A wonderful little production. &lt;br /&gt;&lt;br /&gt;The...</td>\n",
       "      <td>positive</td>\n",
       "    </tr>\n",
       "    <tr>\n",
       "      <th>2</th>\n",
       "      <td>I thought this was a wonderful way to spend ti...</td>\n",
       "      <td>positive</td>\n",
       "    </tr>\n",
       "    <tr>\n",
       "      <th>3</th>\n",
       "      <td>Basically there's a family where a little boy ...</td>\n",
       "      <td>negative</td>\n",
       "    </tr>\n",
       "    <tr>\n",
       "      <th>4</th>\n",
       "      <td>Petter Mattei's \"Love in the Time of Money\" is...</td>\n",
       "      <td>positive</td>\n",
       "    </tr>\n",
       "  </tbody>\n",
       "</table>\n",
       "</div>"
      ],
      "text/plain": [
       "                                              review sentiment\n",
       "0  One of the other reviewers has mentioned that ...  positive\n",
       "1  A wonderful little production. <br /><br />The...  positive\n",
       "2  I thought this was a wonderful way to spend ti...  positive\n",
       "3  Basically there's a family where a little boy ...  negative\n",
       "4  Petter Mattei's \"Love in the Time of Money\" is...  positive"
      ]
     },
     "execution_count": 5,
     "metadata": {},
     "output_type": "execute_result"
    }
   ],
   "source": [
    "data.head()"
   ]
  },
  {
   "cell_type": "code",
   "execution_count": 6,
   "id": "464f38e1",
   "metadata": {},
   "outputs": [
    {
     "data": {
      "text/plain": [
       "\"One of the other reviewers has mentioned that after watching just 1 Oz episode you'll be hooked. They are right, as this is exactly what happened with me.<br /><br />The first thing that struck me about Oz was its brutality and unflinching scenes of violence, which set in right from the word GO. Trust me, this is not a show for the faint hearted or timid. This show pulls no punches with regards to drugs, sex or violence. Its is hardcore, in the classic use of the word.<br /><br />It is called OZ as that is the nickname given to the Oswald Maximum Security State Penitentary. It focuses mainly on Emerald City, an experimental section of the prison where all the cells have glass fronts and face inwards, so privacy is not high on the agenda. Em City is home to many..Aryans, Muslims, gangstas, Latinos, Christians, Italians, Irish and more....so scuffles, death stares, dodgy dealings and shady agreements are never far away.<br /><br />I would say the main appeal of the show is due to the fact that it goes where other shows wouldn't dare. Forget pretty pictures painted for mainstream audiences, forget charm, forget romance...OZ doesn't mess around. The first episode I ever saw struck me as so nasty it was surreal, I couldn't say I was ready for it, but as I watched more, I developed a taste for Oz, and got accustomed to the high levels of graphic violence. Not just violence, but injustice (crooked guards who'll be sold out for a nickel, inmates who'll kill on order and get away with it, well mannered, middle class inmates being turned into prison bitches due to their lack of street skills or prison experience) Watching Oz, you may become comfortable with what is uncomfortable viewing....thats if you can get in touch with your darker side.\""
      ]
     },
     "execution_count": 6,
     "metadata": {},
     "output_type": "execute_result"
    }
   ],
   "source": [
    "data.review[0]"
   ]
  },
  {
   "cell_type": "markdown",
   "id": "e8aa526f",
   "metadata": {
    "papermill": {
     "duration": 0.007278,
     "end_time": "2025-04-20T09:31:45.883948",
     "exception": false,
     "start_time": "2025-04-20T09:31:45.876670",
     "status": "completed"
    },
    "tags": []
   },
   "source": [
    "## Checking Sentiment Distribution"
   ]
  },
  {
   "cell_type": "code",
   "execution_count": 7,
   "id": "aa8a4919",
   "metadata": {
    "execution": {
     "iopub.execute_input": "2025-04-20T09:31:45.893621Z",
     "iopub.status.busy": "2025-04-20T09:31:45.893355Z",
     "iopub.status.idle": "2025-04-20T09:31:45.909763Z",
     "shell.execute_reply": "2025-04-20T09:31:45.909173Z"
    },
    "papermill": {
     "duration": 0.023282,
     "end_time": "2025-04-20T09:31:45.911802",
     "exception": false,
     "start_time": "2025-04-20T09:31:45.888520",
     "status": "completed"
    },
    "tags": []
   },
   "outputs": [
    {
     "data": {
      "text/plain": [
       "negative    24905\n",
       "positive    24895\n",
       "Name: sentiment, dtype: int64"
      ]
     },
     "execution_count": 7,
     "metadata": {},
     "output_type": "execute_result"
    }
   ],
   "source": [
    "data[\"sentiment\"].value_counts()"
   ]
  },
  {
   "cell_type": "markdown",
   "id": "c6ba69ad",
   "metadata": {
    "papermill": {
     "duration": 0.004444,
     "end_time": "2025-04-20T09:31:45.922637",
     "exception": false,
     "start_time": "2025-04-20T09:31:45.918193",
     "status": "completed"
    },
    "tags": []
   },
   "source": [
    "## Encoding Sentiment Labels"
   ]
  },
  {
   "cell_type": "code",
   "execution_count": 8,
   "id": "6151780e",
   "metadata": {
    "execution": {
     "iopub.execute_input": "2025-04-20T09:31:45.932841Z",
     "iopub.status.busy": "2025-04-20T09:31:45.932585Z",
     "iopub.status.idle": "2025-04-20T09:31:45.958401Z",
     "shell.execute_reply": "2025-04-20T09:31:45.957525Z"
    },
    "papermill": {
     "duration": 0.032258,
     "end_time": "2025-04-20T09:31:45.959541",
     "exception": false,
     "start_time": "2025-04-20T09:31:45.927283",
     "status": "completed"
    },
    "tags": []
   },
   "outputs": [],
   "source": [
    "data.replace({\"sentiment\": {\"positive\": 1, \"negative\": 0}}, inplace=True)"
   ]
  },
  {
   "cell_type": "markdown",
   "id": "7c8893fe",
   "metadata": {
    "papermill": {
     "duration": 0.004431,
     "end_time": "2025-04-20T09:31:45.968646",
     "exception": false,
     "start_time": "2025-04-20T09:31:45.964215",
     "status": "completed"
    },
    "tags": []
   },
   "source": [
    "## Preprocessing data"
   ]
  },
  {
   "cell_type": "code",
   "execution_count": 9,
   "id": "85eef3d0",
   "metadata": {
    "execution": {
     "iopub.execute_input": "2025-04-20T09:31:45.978636Z",
     "iopub.status.busy": "2025-04-20T09:31:45.978372Z",
     "iopub.status.idle": "2025-04-20T09:31:45.987803Z",
     "shell.execute_reply": "2025-04-20T09:31:45.987054Z"
    },
    "papermill": {
     "duration": 0.015761,
     "end_time": "2025-04-20T09:31:45.989007",
     "exception": false,
     "start_time": "2025-04-20T09:31:45.973246",
     "status": "completed"
    },
    "tags": []
   },
   "outputs": [],
   "source": [
    "def cropHTML(text):\n",
    "        soup = BeautifulSoup(text, \"html.parser\")\n",
    "        return soup.get_text()\n",
    "\n",
    "\n",
    "def removePunc(text):\n",
    "\n",
    "    pattern = r'[^a-zA-Z0-9\\s]'\n",
    "    text = re.sub(pattern,' ',text)\n",
    "\n",
    "    text = re.sub(r\"\\s+[a-zA-Z]\\s+\", ' ', text)\n",
    "    text = re.sub(r'\\s+', ' ', text)\n",
    "\n",
    "    return text\n",
    "\n",
    "def removeStopWord(text, updated_stopword_list ,is_lower_case=False):\n",
    "    # splitting strings into tokens (list of words)\n",
    "    tokens = nltk.tokenize.word_tokenize(text)\n",
    "    tokens = [token.strip() for token in tokens]\n",
    "    if is_lower_case:\n",
    "        # filtering out the stop words\n",
    "        filtered_tokens = [token for token in tokens if token not in updated_stopword_list]\n",
    "    else:\n",
    "        filtered_tokens = [token for token in tokens if token.lower() not in updated_stopword_list]\n",
    "    filtered_text = ' '.join(filtered_tokens)\n",
    "    return filtered_text\n",
    "    \n",
    "    \n",
    "def Preprocess(text):\n",
    "    text = cropHTML(text)\n",
    "    text= removePunc(text)\n",
    "#     stopword_list = nltk.corpus.stopwords.words('english')\n",
    "#     print(stopword_list)\n",
    "#     updated_stopword_list = []\n",
    "\n",
    "#     for word in stopword_list:\n",
    "#         if word=='not' or word.endswith(\"n't\"):\n",
    "#             pass\n",
    "#         else:\n",
    "#             updated_stopword_list.append(word)\n",
    "\n",
    "#     text = removeStopWord(text , updated_stopword_list)\n",
    "#     text=text.replace(\"RT\" , '')\n",
    "  \n",
    "    return text\n",
    "\n",
    "\n",
    "data[\"review\"] =data['review'].apply(Preprocess)"
   ]
  },
  {
   "cell_type": "code",
   "execution_count": 10,
   "id": "f93bc7ab",
   "metadata": {},
   "outputs": [
    {
     "data": {
      "text/plain": [
       "'One of the other reviewers has mentioned that after watching just 1 Oz episode you ll be hooked They are right as this is exactly what happened with me The first thing that struck me about Oz was its brutality and unflinching scenes of violence which set in right from the word GO Trust me this is not show for the faint hearted or timid This show pulls no punches with regards to drugs sex or violence Its is hardcore in the classic use of the word It is called OZ as that is the nickname given to the Oswald Maximum Security State Penitentary It focuses mainly on Emerald City an experimental section of the prison where all the cells have glass fronts and face inwards so privacy is not high on the agenda Em City is home to many Aryans Muslims gangstas Latinos Christians Italians Irish and more so scuffles death stares dodgy dealings and shady agreements are never far away would say the main appeal of the show is due to the fact that it goes where other shows wouldn dare Forget pretty pictures painted for mainstream audiences forget charm forget romance OZ doesn mess around The first episode ever saw struck me as so nasty it was surreal couldn say was ready for it but as watched more developed taste for Oz and got accustomed to the high levels of graphic violence Not just violence but injustice crooked guards who ll be sold out for nickel inmates who ll kill on order and get away with it well mannered middle class inmates being turned into prison bitches due to their lack of street skills or prison experience Watching Oz you may become comfortable with what is uncomfortable viewing thats if you can get in touch with your darker side '"
      ]
     },
     "execution_count": 10,
     "metadata": {},
     "output_type": "execute_result"
    }
   ],
   "source": [
    "data.review[0]"
   ]
  },
  {
   "cell_type": "markdown",
   "id": "8d7893d7",
   "metadata": {
    "papermill": {
     "duration": 0.004433,
     "end_time": "2025-04-20T09:31:45.998109",
     "exception": false,
     "start_time": "2025-04-20T09:31:45.993676",
     "status": "completed"
    },
    "tags": []
   },
   "source": [
    "## Splitting Dataset into Train, Validation, and Test Sets"
   ]
  },
  {
   "cell_type": "code",
   "execution_count": 11,
   "id": "8dfc8bea",
   "metadata": {
    "execution": {
     "iopub.execute_input": "2025-04-20T09:31:46.009109Z",
     "iopub.status.busy": "2025-04-20T09:31:46.008530Z",
     "iopub.status.idle": "2025-04-20T09:31:46.057907Z",
     "shell.execute_reply": "2025-04-20T09:31:46.057081Z"
    },
    "papermill": {
     "duration": 0.056297,
     "end_time": "2025-04-20T09:31:46.059276",
     "exception": false,
     "start_time": "2025-04-20T09:31:46.002979",
     "status": "completed"
    },
    "tags": []
   },
   "outputs": [
    {
     "data": {
      "text/plain": [
       "(39840, 4980, 4980)"
      ]
     },
     "execution_count": 11,
     "metadata": {},
     "output_type": "execute_result"
    }
   ],
   "source": [
    "train, temp = train_test_split(data, test_size=0.20, random_state=42, stratify=data['sentiment'])\n",
    "val, test = train_test_split(temp, test_size=0.50, random_state=42, stratify=temp['sentiment'])\n",
    "len(train) , len(val) , len(test) "
   ]
  },
  {
   "cell_type": "code",
   "execution_count": 12,
   "id": "d2bd43d9",
   "metadata": {},
   "outputs": [
    {
     "data": {
      "text/html": [
       "<div>\n",
       "<style scoped>\n",
       "    .dataframe tbody tr th:only-of-type {\n",
       "        vertical-align: middle;\n",
       "    }\n",
       "\n",
       "    .dataframe tbody tr th {\n",
       "        vertical-align: top;\n",
       "    }\n",
       "\n",
       "    .dataframe thead th {\n",
       "        text-align: right;\n",
       "    }\n",
       "</style>\n",
       "<table border=\"1\" class=\"dataframe\">\n",
       "  <thead>\n",
       "    <tr style=\"text-align: right;\">\n",
       "      <th></th>\n",
       "      <th>review</th>\n",
       "      <th>sentiment</th>\n",
       "    </tr>\n",
       "  </thead>\n",
       "  <tbody>\n",
       "    <tr>\n",
       "      <th>35820</th>\n",
       "      <td>I a big fan of Italian films from the seventie...</td>\n",
       "      <td>0</td>\n",
       "    </tr>\n",
       "    <tr>\n",
       "      <th>40607</th>\n",
       "      <td>Starting with My Name is Joe like scene in Alc...</td>\n",
       "      <td>1</td>\n",
       "    </tr>\n",
       "    <tr>\n",
       "      <th>21931</th>\n",
       "      <td>Has some really good music and performances Ki...</td>\n",
       "      <td>0</td>\n",
       "    </tr>\n",
       "    <tr>\n",
       "      <th>30781</th>\n",
       "      <td>The Shirley Jackson novel The Haunting of Hill...</td>\n",
       "      <td>0</td>\n",
       "    </tr>\n",
       "    <tr>\n",
       "      <th>41881</th>\n",
       "      <td>Miss Cast Away is an amusing trifle which dis...</td>\n",
       "      <td>1</td>\n",
       "    </tr>\n",
       "  </tbody>\n",
       "</table>\n",
       "</div>"
      ],
      "text/plain": [
       "                                                  review  sentiment\n",
       "35820  I a big fan of Italian films from the seventie...          0\n",
       "40607  Starting with My Name is Joe like scene in Alc...          1\n",
       "21931  Has some really good music and performances Ki...          0\n",
       "30781  The Shirley Jackson novel The Haunting of Hill...          0\n",
       "41881   Miss Cast Away is an amusing trifle which dis...          1"
      ]
     },
     "execution_count": 12,
     "metadata": {},
     "output_type": "execute_result"
    }
   ],
   "source": [
    "train.head()"
   ]
  },
  {
   "cell_type": "markdown",
   "id": "a9678ef8",
   "metadata": {
    "papermill": {
     "duration": 0.0081,
     "end_time": "2025-04-20T09:31:46.075929",
     "exception": false,
     "start_time": "2025-04-20T09:31:46.067829",
     "status": "completed"
    },
    "tags": []
   },
   "source": [
    "## Storing and Verifying Dataset Splits"
   ]
  },
  {
   "cell_type": "code",
   "execution_count": 13,
   "id": "68e8bda9",
   "metadata": {
    "execution": {
     "iopub.execute_input": "2025-04-20T09:31:46.091951Z",
     "iopub.status.busy": "2025-04-20T09:31:46.091061Z",
     "iopub.status.idle": "2025-04-20T09:31:46.096134Z",
     "shell.execute_reply": "2025-04-20T09:31:46.095413Z"
    },
    "papermill": {
     "duration": 0.013502,
     "end_time": "2025-04-20T09:31:46.097236",
     "exception": false,
     "start_time": "2025-04-20T09:31:46.083734",
     "status": "completed"
    },
    "tags": []
   },
   "outputs": [
    {
     "name": "stdout",
     "output_type": "stream",
     "text": [
      "(39840, 2)\n",
      "(4980, 2)\n",
      "(4980, 2)\n"
     ]
    }
   ],
   "source": [
    "train_data = train\n",
    "val_data = val\n",
    "test_data = test\n",
    "\n",
    "print(train_data.shape)\n",
    "print(test_data.shape)\n",
    "print(val_data.shape)"
   ]
  },
  {
   "cell_type": "markdown",
   "id": "6e13c5b5",
   "metadata": {
    "papermill": {
     "duration": 0.004253,
     "end_time": "2025-04-20T09:31:46.105945",
     "exception": false,
     "start_time": "2025-04-20T09:31:46.101692",
     "status": "completed"
    },
    "tags": []
   },
   "source": [
    "## Tokenizing and Padding Text Data"
   ]
  },
  {
   "cell_type": "code",
   "execution_count": 14,
   "id": "84b088aa",
   "metadata": {
    "execution": {
     "iopub.execute_input": "2025-04-20T09:31:46.115537Z",
     "iopub.status.busy": "2025-04-20T09:31:46.115320Z",
     "iopub.status.idle": "2025-04-20T09:31:56.768528Z",
     "shell.execute_reply": "2025-04-20T09:31:56.767946Z"
    },
    "papermill": {
     "duration": 10.659665,
     "end_time": "2025-04-20T09:31:56.769925",
     "exception": false,
     "start_time": "2025-04-20T09:31:46.110260",
     "status": "completed"
    },
    "tags": []
   },
   "outputs": [],
   "source": [
    "tokenizer = Tokenizer(num_words=5000)\n",
    "tokenizer.fit_on_texts(train_data[\"review\"])\n",
    "\n",
    "X_train = pad_sequences(tokenizer.texts_to_sequences(train_data[\"review\"]), maxlen=200)\n",
    "X_val = pad_sequences(tokenizer.texts_to_sequences(val_data[\"review\"]), maxlen=200)\n",
    "X_test = pad_sequences(tokenizer.texts_to_sequences(test_data[\"review\"]), maxlen=200)\n",
    "\n",
    "# Target variables\n",
    "Y_train = train_data[\"sentiment\"].values\n",
    "Y_val = val_data[\"sentiment\"].values\n",
    "Y_test = test_data[\"sentiment\"].values"
   ]
  },
  {
   "cell_type": "code",
   "execution_count": 15,
   "id": "37f6d07a",
   "metadata": {},
   "outputs": [
    {
     "data": {
      "text/plain": [
       "(200,\n",
       " array([2065,  755,   54, 1700, 1511,    3,   26,   53,   32,  112,  137,\n",
       "          79,    8,   16,   14,   44, 1992,  191,    6,  532,  472, 1793,\n",
       "           9,    8,    5, 2321, 1127,   16,    9,  210,  167,    4,  137,\n",
       "        1655,  690, 1189,   56,  137,   79,    8,  996,   69,   47,   15,\n",
       "           1,  189,    9,    8,    5, 1127,  215,   47,  629,   48,   17,\n",
       "        1151,    9,    6,   78,  246,  763,    2,  606,    3,    1,   97,\n",
       "          21,  220,   11,    1,  415, 3146,    1,   16, 2751,   18,    7,\n",
       "           8,  420,   24,    9, 2250,    2,  514,    9,  681,   26,    1,\n",
       "         107,    9,    8,   12,   42,    1,   16,  121,   23,  142, 4270,\n",
       "         389,    4,    6,    2,    1,  316,    3,    6,   26,  105,   49,\n",
       "         215,  610,   66,    6,  527,  184,   34,  956,    2,   67,  264,\n",
       "           4,  265,  610,   44,  425,    3,  217,  255,  859,    9,  217,\n",
       "           5,  153,  211,  610,   49,   66,  312, 2065,   18,  253,    5,\n",
       "         209, 1664,    2,    9,    5,    1,  420,  125,   93,   50,  403,\n",
       "           1,  114,  145,   39,    1,   16,    2,    1,  702,    7,   57,\n",
       "          50,   40,    3,  517, 1262,    5,    1,  114,  172,    3,    1,\n",
       "          16,  441,    1,   77,  236,   23,   44, 1332,   13,   75,   31,\n",
       "         106,    1, 4270,  389,   15,  477,    6,  153,   23,   69,  323,\n",
       "           4, 1426], dtype=int32),\n",
       " 0)"
      ]
     },
     "execution_count": 15,
     "metadata": {},
     "output_type": "execute_result"
    }
   ],
   "source": [
    "len(X_train[0]), X_train[0] , Y_train[0]"
   ]
  },
  {
   "cell_type": "markdown",
   "id": "62398670",
   "metadata": {
    "papermill": {
     "duration": 0.004363,
     "end_time": "2025-04-20T09:31:56.779257",
     "exception": false,
     "start_time": "2025-04-20T09:31:56.774894",
     "status": "completed"
    },
    "tags": []
   },
   "source": [
    "## Building and Compiling the LSTM Model"
   ]
  },
  {
   "cell_type": "code",
   "execution_count": 16,
   "id": "a561b6ce",
   "metadata": {
    "execution": {
     "iopub.execute_input": "2025-04-20T09:31:56.788867Z",
     "iopub.status.busy": "2025-04-20T09:31:56.788629Z",
     "iopub.status.idle": "2025-04-20T09:49:48.470292Z",
     "shell.execute_reply": "2025-04-20T09:49:48.469525Z"
    },
    "papermill": {
     "duration": 1072.010745,
     "end_time": "2025-04-20T09:49:48.794384",
     "exception": false,
     "start_time": "2025-04-20T09:31:56.783639",
     "status": "completed"
    },
    "tags": []
   },
   "outputs": [
    {
     "name": "stdout",
     "output_type": "stream",
     "text": [
      "Epoch 1/10\n"
     ]
    },
    {
     "name": "stderr",
     "output_type": "stream",
     "text": [
      "/home/abbas/anaconda3/lib/python3.11/site-packages/keras/src/layers/core/embedding.py:90: UserWarning: Argument `input_length` is deprecated. Just remove it.\n",
      "  warnings.warn(\n",
      "2025-05-03 18:08:40.258862: E external/local_xla/xla/stream_executor/cuda/cuda_platform.cc:51] failed call to cuInit: INTERNAL: CUDA error: Failed call to cuInit: UNKNOWN ERROR (303)\n"
     ]
    },
    {
     "name": "stdout",
     "output_type": "stream",
     "text": [
      "\u001b[1m623/623\u001b[0m \u001b[32m━━━━━━━━━━━━━━━━━━━━\u001b[0m\u001b[37m\u001b[0m \u001b[1m82s\u001b[0m 128ms/step - accuracy: 0.7430 - loss: 0.5102 - val_accuracy: 0.8422 - val_loss: 0.3752\n",
      "Epoch 2/10\n",
      "\u001b[1m623/623\u001b[0m \u001b[32m━━━━━━━━━━━━━━━━━━━━\u001b[0m\u001b[37m\u001b[0m \u001b[1m76s\u001b[0m 123ms/step - accuracy: 0.8638 - loss: 0.3351 - val_accuracy: 0.8598 - val_loss: 0.3314\n",
      "Epoch 3/10\n",
      "\u001b[1m623/623\u001b[0m \u001b[32m━━━━━━━━━━━━━━━━━━━━\u001b[0m\u001b[37m\u001b[0m \u001b[1m74s\u001b[0m 119ms/step - accuracy: 0.8843 - loss: 0.2864 - val_accuracy: 0.8765 - val_loss: 0.3104\n",
      "Epoch 4/10\n",
      "\u001b[1m623/623\u001b[0m \u001b[32m━━━━━━━━━━━━━━━━━━━━\u001b[0m\u001b[37m\u001b[0m \u001b[1m77s\u001b[0m 124ms/step - accuracy: 0.9058 - loss: 0.2408 - val_accuracy: 0.8833 - val_loss: 0.3032\n",
      "Epoch 5/10\n",
      "\u001b[1m623/623\u001b[0m \u001b[32m━━━━━━━━━━━━━━━━━━━━\u001b[0m\u001b[37m\u001b[0m \u001b[1m76s\u001b[0m 122ms/step - accuracy: 0.9169 - loss: 0.2191 - val_accuracy: 0.8841 - val_loss: 0.2916\n",
      "Epoch 6/10\n",
      "\u001b[1m623/623\u001b[0m \u001b[32m━━━━━━━━━━━━━━━━━━━━\u001b[0m\u001b[37m\u001b[0m \u001b[1m78s\u001b[0m 125ms/step - accuracy: 0.9194 - loss: 0.2068 - val_accuracy: 0.8849 - val_loss: 0.3091\n",
      "Epoch 7/10\n",
      "\u001b[1m623/623\u001b[0m \u001b[32m━━━━━━━━━━━━━━━━━━━━\u001b[0m\u001b[37m\u001b[0m \u001b[1m77s\u001b[0m 123ms/step - accuracy: 0.9372 - loss: 0.1661 - val_accuracy: 0.8823 - val_loss: 0.3170\n",
      "Epoch 8/10\n",
      "\u001b[1m623/623\u001b[0m \u001b[32m━━━━━━━━━━━━━━━━━━━━\u001b[0m\u001b[37m\u001b[0m \u001b[1m78s\u001b[0m 125ms/step - accuracy: 0.9453 - loss: 0.1430 - val_accuracy: 0.8849 - val_loss: 0.3313\n"
     ]
    },
    {
     "data": {
      "text/html": [
       "<pre style=\"white-space:pre;overflow-x:auto;line-height:normal;font-family:Menlo,'DejaVu Sans Mono',consolas,'Courier New',monospace\"><span style=\"font-weight: bold\">Model: \"sequential\"</span>\n",
       "</pre>\n"
      ],
      "text/plain": [
       "\u001b[1mModel: \"sequential\"\u001b[0m\n"
      ]
     },
     "metadata": {},
     "output_type": "display_data"
    },
    {
     "data": {
      "text/html": [
       "<pre style=\"white-space:pre;overflow-x:auto;line-height:normal;font-family:Menlo,'DejaVu Sans Mono',consolas,'Courier New',monospace\">┏━━━━━━━━━━━━━━━━━━━━━━━━━━━━━━━━━┳━━━━━━━━━━━━━━━━━━━━━━━━┳━━━━━━━━━━━━━━━┓\n",
       "┃<span style=\"font-weight: bold\"> Layer (type)                    </span>┃<span style=\"font-weight: bold\"> Output Shape           </span>┃<span style=\"font-weight: bold\">       Param # </span>┃\n",
       "┡━━━━━━━━━━━━━━━━━━━━━━━━━━━━━━━━━╇━━━━━━━━━━━━━━━━━━━━━━━━╇━━━━━━━━━━━━━━━┩\n",
       "│ embedding (<span style=\"color: #0087ff; text-decoration-color: #0087ff\">Embedding</span>)           │ (<span style=\"color: #00d7ff; text-decoration-color: #00d7ff\">None</span>, <span style=\"color: #00af00; text-decoration-color: #00af00\">200</span>, <span style=\"color: #00af00; text-decoration-color: #00af00\">128</span>)       │       <span style=\"color: #00af00; text-decoration-color: #00af00\">640,000</span> │\n",
       "├─────────────────────────────────┼────────────────────────┼───────────────┤\n",
       "│ lstm (<span style=\"color: #0087ff; text-decoration-color: #0087ff\">LSTM</span>)                     │ (<span style=\"color: #00d7ff; text-decoration-color: #00d7ff\">None</span>, <span style=\"color: #00af00; text-decoration-color: #00af00\">64</span>)             │        <span style=\"color: #00af00; text-decoration-color: #00af00\">49,408</span> │\n",
       "├─────────────────────────────────┼────────────────────────┼───────────────┤\n",
       "│ dense (<span style=\"color: #0087ff; text-decoration-color: #0087ff\">Dense</span>)                   │ (<span style=\"color: #00d7ff; text-decoration-color: #00d7ff\">None</span>, <span style=\"color: #00af00; text-decoration-color: #00af00\">1</span>)              │            <span style=\"color: #00af00; text-decoration-color: #00af00\">65</span> │\n",
       "└─────────────────────────────────┴────────────────────────┴───────────────┘\n",
       "</pre>\n"
      ],
      "text/plain": [
       "┏━━━━━━━━━━━━━━━━━━━━━━━━━━━━━━━━━┳━━━━━━━━━━━━━━━━━━━━━━━━┳━━━━━━━━━━━━━━━┓\n",
       "┃\u001b[1m \u001b[0m\u001b[1mLayer (type)                   \u001b[0m\u001b[1m \u001b[0m┃\u001b[1m \u001b[0m\u001b[1mOutput Shape          \u001b[0m\u001b[1m \u001b[0m┃\u001b[1m \u001b[0m\u001b[1m      Param #\u001b[0m\u001b[1m \u001b[0m┃\n",
       "┡━━━━━━━━━━━━━━━━━━━━━━━━━━━━━━━━━╇━━━━━━━━━━━━━━━━━━━━━━━━╇━━━━━━━━━━━━━━━┩\n",
       "│ embedding (\u001b[38;5;33mEmbedding\u001b[0m)           │ (\u001b[38;5;45mNone\u001b[0m, \u001b[38;5;34m200\u001b[0m, \u001b[38;5;34m128\u001b[0m)       │       \u001b[38;5;34m640,000\u001b[0m │\n",
       "├─────────────────────────────────┼────────────────────────┼───────────────┤\n",
       "│ lstm (\u001b[38;5;33mLSTM\u001b[0m)                     │ (\u001b[38;5;45mNone\u001b[0m, \u001b[38;5;34m64\u001b[0m)             │        \u001b[38;5;34m49,408\u001b[0m │\n",
       "├─────────────────────────────────┼────────────────────────┼───────────────┤\n",
       "│ dense (\u001b[38;5;33mDense\u001b[0m)                   │ (\u001b[38;5;45mNone\u001b[0m, \u001b[38;5;34m1\u001b[0m)              │            \u001b[38;5;34m65\u001b[0m │\n",
       "└─────────────────────────────────┴────────────────────────┴───────────────┘\n"
      ]
     },
     "metadata": {},
     "output_type": "display_data"
    },
    {
     "data": {
      "text/html": [
       "<pre style=\"white-space:pre;overflow-x:auto;line-height:normal;font-family:Menlo,'DejaVu Sans Mono',consolas,'Courier New',monospace\"><span style=\"font-weight: bold\"> Total params: </span><span style=\"color: #00af00; text-decoration-color: #00af00\">2,068,421</span> (7.89 MB)\n",
       "</pre>\n"
      ],
      "text/plain": [
       "\u001b[1m Total params: \u001b[0m\u001b[38;5;34m2,068,421\u001b[0m (7.89 MB)\n"
      ]
     },
     "metadata": {},
     "output_type": "display_data"
    },
    {
     "data": {
      "text/html": [
       "<pre style=\"white-space:pre;overflow-x:auto;line-height:normal;font-family:Menlo,'DejaVu Sans Mono',consolas,'Courier New',monospace\"><span style=\"font-weight: bold\"> Trainable params: </span><span style=\"color: #00af00; text-decoration-color: #00af00\">689,473</span> (2.63 MB)\n",
       "</pre>\n"
      ],
      "text/plain": [
       "\u001b[1m Trainable params: \u001b[0m\u001b[38;5;34m689,473\u001b[0m (2.63 MB)\n"
      ]
     },
     "metadata": {},
     "output_type": "display_data"
    },
    {
     "data": {
      "text/html": [
       "<pre style=\"white-space:pre;overflow-x:auto;line-height:normal;font-family:Menlo,'DejaVu Sans Mono',consolas,'Courier New',monospace\"><span style=\"font-weight: bold\"> Non-trainable params: </span><span style=\"color: #00af00; text-decoration-color: #00af00\">0</span> (0.00 B)\n",
       "</pre>\n"
      ],
      "text/plain": [
       "\u001b[1m Non-trainable params: \u001b[0m\u001b[38;5;34m0\u001b[0m (0.00 B)\n"
      ]
     },
     "metadata": {},
     "output_type": "display_data"
    },
    {
     "data": {
      "text/html": [
       "<pre style=\"white-space:pre;overflow-x:auto;line-height:normal;font-family:Menlo,'DejaVu Sans Mono',consolas,'Courier New',monospace\"><span style=\"font-weight: bold\"> Optimizer params: </span><span style=\"color: #00af00; text-decoration-color: #00af00\">1,378,948</span> (5.26 MB)\n",
       "</pre>\n"
      ],
      "text/plain": [
       "\u001b[1m Optimizer params: \u001b[0m\u001b[38;5;34m1,378,948\u001b[0m (5.26 MB)\n"
      ]
     },
     "metadata": {},
     "output_type": "display_data"
    }
   ],
   "source": [
    "# Build the model\n",
    "model = Sequential()\n",
    "model.add(Embedding(input_dim=5000, output_dim=128, input_length=200))\n",
    "model.add(LSTM(units=64, dropout=0.2, recurrent_dropout=0.2))\n",
    "model.add(Dense(units=1, activation='sigmoid'))\n",
    "\n",
    "\n",
    "\n",
    "# Compile the model\n",
    "model.compile(\n",
    "    optimizer='adam',\n",
    "    loss='binary_crossentropy',\n",
    "    metrics=['accuracy']\n",
    ")\n",
    "\n",
    "# Early Stopping Callback\n",
    "early_stopping = EarlyStopping(\n",
    "    monitor='val_loss',\n",
    "    patience=3,\n",
    "    restore_best_weights=True\n",
    ")\n",
    "\n",
    "\n",
    "\n",
    "# Train the model\n",
    "history = model.fit(\n",
    "    X_train, Y_train,\n",
    "    epochs=10,\n",
    "    batch_size=64,\n",
    "    validation_data=(X_val, Y_val),\n",
    "    callbacks=[early_stopping]\n",
    ")\n",
    "\n",
    "model.summary()\n"
   ]
  },
  {
   "cell_type": "markdown",
   "id": "0701c4ba",
   "metadata": {
    "papermill": {
     "duration": 0.226528,
     "end_time": "2025-04-20T09:50:04.017681",
     "exception": false,
     "start_time": "2025-04-20T09:50:03.791153",
     "status": "completed"
    },
    "tags": []
   },
   "source": [
    "## Visualizing Training and Validation Accuracy/Loss Over Epochs"
   ]
  },
  {
   "cell_type": "code",
   "execution_count": 18,
   "id": "45c8a477",
   "metadata": {
    "execution": {
     "iopub.execute_input": "2025-04-20T09:50:04.546779Z",
     "iopub.status.busy": "2025-04-20T09:50:04.546470Z",
     "iopub.status.idle": "2025-04-20T09:50:05.108856Z",
     "shell.execute_reply": "2025-04-20T09:50:05.108046Z"
    },
    "papermill": {
     "duration": 0.79423,
     "end_time": "2025-04-20T09:50:05.110094",
     "exception": false,
     "start_time": "2025-04-20T09:50:04.315864",
     "status": "completed"
    },
    "tags": []
   },
   "outputs": [
    {
     "data": {
      "image/png": "[encoded data removed]",
      "text/plain": [
       "<Figure size 1200x500 with 2 Axes>"
      ]
     },
     "metadata": {},
     "output_type": "display_data"
    }
   ],
   "source": [
    "import matplotlib.pyplot as plt\n",
    "\n",
    "\n",
    "plt.figure(figsize=(12, 5))\n",
    "plt.subplot(1, 2, 1)\n",
    "plt.plot(history.history['accuracy'], label='Train Accuracy', marker='o')\n",
    "plt.plot(history.history['val_accuracy'], label='Val Accuracy', linestyle='--', marker='o') \n",
    "plt.title('Accuracy over Epochs')\n",
    "plt.xlabel('Epoch')\n",
    "plt.ylabel('Accuracy')\n",
    "plt.legend()\n",
    "plt.grid(True)\n",
    "\n",
    "# Loss\n",
    "plt.subplot(1, 2, 2)\n",
    "plt.plot(history.history['loss'], label='Train Loss', marker='o')\n",
    "plt.plot(history.history['val_loss'], label='Val Loss', linestyle='--', marker='o')  \n",
    "plt.title('Loss over Epochs')\n",
    "plt.xlabel('Epoch')\n",
    "plt.ylabel('Loss')\n",
    "plt.legend()\n",
    "plt.grid(True)\n",
    "\n",
    "plt.tight_layout()\n",
    "plt.show()"
   ]
  },
  {
   "cell_type": "markdown",
   "id": "f2db3311",
   "metadata": {
    "papermill": {
     "duration": 0.224347,
     "end_time": "2025-04-20T09:49:49.252001",
     "exception": false,
     "start_time": "2025-04-20T09:49:49.027654",
     "status": "completed"
    },
    "tags": []
   },
   "source": [
    "## Saving the Trained Model"
   ]
  },
  {
   "cell_type": "code",
   "execution_count": 19,
   "id": "09007a0c",
   "metadata": {
    "execution": {
     "iopub.execute_input": "2025-04-20T09:49:49.697855Z",
     "iopub.status.busy": "2025-04-20T09:49:49.697522Z",
     "iopub.status.idle": "2025-04-20T09:49:49.766804Z",
     "shell.execute_reply": "2025-04-20T09:49:49.766005Z"
    },
    "papermill": {
     "duration": 0.29079,
     "end_time": "2025-04-20T09:49:49.768251",
     "exception": false,
     "start_time": "2025-04-20T09:49:49.477461",
     "status": "completed"
    },
    "tags": []
   },
   "outputs": [],
   "source": [
    "model.save(modelPath)"
   ]
  },
  {
   "cell_type": "markdown",
   "id": "5fcdf55f",
   "metadata": {
    "papermill": {
     "duration": 0.250688,
     "end_time": "2025-04-20T09:49:50.225181",
     "exception": false,
     "start_time": "2025-04-20T09:49:49.974493",
     "status": "completed"
    },
    "tags": []
   },
   "source": [
    "## Loading the model & data for evaluation on the data which we saved earlier"
   ]
  },
  {
   "cell_type": "code",
   "execution_count": 20,
   "id": "da4d2ce1",
   "metadata": {
    "execution": {
     "iopub.execute_input": "2025-04-20T09:49:50.641277Z",
     "iopub.status.busy": "2025-04-20T09:49:50.640453Z",
     "iopub.status.idle": "2025-04-20T09:50:03.575607Z",
     "shell.execute_reply": "2025-04-20T09:50:03.574965Z"
    },
    "papermill": {
     "duration": 13.146185,
     "end_time": "2025-04-20T09:50:03.576618",
     "exception": false,
     "start_time": "2025-04-20T09:49:50.430433",
     "status": "completed"
    },
    "tags": []
   },
   "outputs": [],
   "source": [
    "from tensorflow.keras.models import load_model\n",
    "\n",
    "model = load_model(modelPath)\n"
   ]
  },
  {
   "cell_type": "code",
   "execution_count": 40,
   "id": "7476871a",
   "metadata": {},
   "outputs": [],
   "source": [
    "test= pd.read_csv(testDataPath)\n",
    "test['sentiment'] = test['sentiment'].apply(lambda x : 1 if x == \"positive\" else 0)\n",
    "test['review'] = test['review'].apply(Preprocess)\n",
    "text = pad_sequences(tokenizer.texts_to_sequences(test[\"review\"]), maxlen=200)\n",
    "labels = test.sentiment.values"
   ]
  },
  {
   "cell_type": "code",
   "execution_count": 41,
   "id": "890a56d4",
   "metadata": {},
   "outputs": [
    {
     "data": {
      "text/html": [
       "<div>\n",
       "<style scoped>\n",
       "    .dataframe tbody tr th:only-of-type {\n",
       "        vertical-align: middle;\n",
       "    }\n",
       "\n",
       "    .dataframe tbody tr th {\n",
       "        vertical-align: top;\n",
       "    }\n",
       "\n",
       "    .dataframe thead th {\n",
       "        text-align: right;\n",
       "    }\n",
       "</style>\n",
       "<table border=\"1\" class=\"dataframe\">\n",
       "  <thead>\n",
       "    <tr style=\"text-align: right;\">\n",
       "      <th></th>\n",
       "      <th>review</th>\n",
       "      <th>sentiment</th>\n",
       "    </tr>\n",
       "  </thead>\n",
       "  <tbody>\n",
       "    <tr>\n",
       "      <th>0</th>\n",
       "      <td>I really liked this Summerslam due to the look...</td>\n",
       "      <td>1</td>\n",
       "    </tr>\n",
       "    <tr>\n",
       "      <th>1</th>\n",
       "      <td>Not many television shows appeal to quite as m...</td>\n",
       "      <td>1</td>\n",
       "    </tr>\n",
       "    <tr>\n",
       "      <th>2</th>\n",
       "      <td>The film quickly gets to major chase scene wit...</td>\n",
       "      <td>0</td>\n",
       "    </tr>\n",
       "    <tr>\n",
       "      <th>3</th>\n",
       "      <td>Jane Austen would definitely approve of this o...</td>\n",
       "      <td>1</td>\n",
       "    </tr>\n",
       "    <tr>\n",
       "      <th>4</th>\n",
       "      <td>Expectations were somewhat high for me when we...</td>\n",
       "      <td>0</td>\n",
       "    </tr>\n",
       "    <tr>\n",
       "      <th>...</th>\n",
       "      <td>...</td>\n",
       "      <td>...</td>\n",
       "    </tr>\n",
       "    <tr>\n",
       "      <th>195</th>\n",
       "      <td>Code 46 is one of those scifi movies where the...</td>\n",
       "      <td>0</td>\n",
       "    </tr>\n",
       "    <tr>\n",
       "      <th>196</th>\n",
       "      <td>The Ali character works brilliantly within the...</td>\n",
       "      <td>1</td>\n",
       "    </tr>\n",
       "    <tr>\n",
       "      <th>197</th>\n",
       "      <td>Can anybody do good CGI films besides Pixar me...</td>\n",
       "      <td>0</td>\n",
       "    </tr>\n",
       "    <tr>\n",
       "      <th>198</th>\n",
       "      <td>I had no idea what this film was about or even...</td>\n",
       "      <td>1</td>\n",
       "    </tr>\n",
       "    <tr>\n",
       "      <th>199</th>\n",
       "      <td>I am rating this an 8 because of the premise o...</td>\n",
       "      <td>1</td>\n",
       "    </tr>\n",
       "  </tbody>\n",
       "</table>\n",
       "<p>200 rows × 2 columns</p>\n",
       "</div>"
      ],
      "text/plain": [
       "                                                review  sentiment\n",
       "0    I really liked this Summerslam due to the look...          1\n",
       "1    Not many television shows appeal to quite as m...          1\n",
       "2    The film quickly gets to major chase scene wit...          0\n",
       "3    Jane Austen would definitely approve of this o...          1\n",
       "4    Expectations were somewhat high for me when we...          0\n",
       "..                                                 ...        ...\n",
       "195  Code 46 is one of those scifi movies where the...          0\n",
       "196  The Ali character works brilliantly within the...          1\n",
       "197  Can anybody do good CGI films besides Pixar me...          0\n",
       "198  I had no idea what this film was about or even...          1\n",
       "199  I am rating this an 8 because of the premise o...          1\n",
       "\n",
       "[200 rows x 2 columns]"
      ]
     },
     "execution_count": 41,
     "metadata": {},
     "output_type": "execute_result"
    }
   ],
   "source": [
    "test"
   ]
  },
  {
   "cell_type": "markdown",
   "id": "25660505",
   "metadata": {
    "papermill": {
     "duration": 0.21881,
     "end_time": "2025-04-20T09:50:05.557055",
     "exception": false,
     "start_time": "2025-04-20T09:50:05.338245",
     "status": "completed"
    },
    "tags": []
   },
   "source": [
    "## Visualizing Confusion Matrix"
   ]
  },
  {
   "cell_type": "code",
   "execution_count": 24,
   "id": "8166496d",
   "metadata": {
    "execution": {
     "iopub.execute_input": "2025-04-20T09:50:05.990105Z",
     "iopub.status.busy": "2025-04-20T09:50:05.989819Z",
     "iopub.status.idle": "2025-04-20T09:50:18.475501Z",
     "shell.execute_reply": "2025-04-20T09:50:18.474779Z"
    },
    "papermill": {
     "duration": 12.702123,
     "end_time": "2025-04-20T09:50:18.476774",
     "exception": false,
     "start_time": "2025-04-20T09:50:05.774651",
     "status": "completed"
    },
    "tags": []
   },
   "outputs": [
    {
     "name": "stdout",
     "output_type": "stream",
     "text": [
      "\u001b[1m7/7\u001b[0m \u001b[32m━━━━━━━━━━━━━━━━━━━━\u001b[0m\u001b[37m\u001b[0m \u001b[1m1s\u001b[0m 67ms/step\n"
     ]
    },
    {
     "data": {
      "image/png": "[encoded data removed]",
      "text/plain": [
       "<Figure size 600x400 with 2 Axes>"
      ]
     },
     "metadata": {},
     "output_type": "display_data"
    }
   ],
   "source": [
    "from sklearn.metrics import confusion_matrix, ConfusionMatrixDisplay\n",
    "import seaborn as sns\n",
    "import matplotlib.pyplot as plt\n",
    "\n",
    "# Predict on test data\n",
    "y_pred_probs = model.predict(text)\n",
    "y_pred = (y_pred_probs > 0.5).astype(\"int32\")\n",
    "\n",
    "# Create confusion matrix\n",
    "cm = confusion_matrix(labels, y_pred)\n",
    "\n",
    "# Display with seaborn heatmap\n",
    "plt.figure(figsize=(6, 4))\n",
    "sns.heatmap(cm, annot=True, fmt='d', cmap='Blues', xticklabels=[\"Negative\", \"Positive\"], yticklabels=[\"Negative\", \"Positive\"])\n",
    "plt.xlabel(\"Predicted\")\n",
    "plt.ylabel(\"Actual\")\n",
    "plt.title(\"Confusion Matrix\")\n",
    "plt.show()"
   ]
  },
  {
   "cell_type": "markdown",
   "id": "3686eb61",
   "metadata": {
    "papermill": {
     "duration": 0.270876,
     "end_time": "2025-04-20T09:50:18.973314",
     "exception": false,
     "start_time": "2025-04-20T09:50:18.702438",
     "status": "completed"
    },
    "tags": []
   },
   "source": [
    "## Predicting Sentiment for User Input"
   ]
  },
  {
   "cell_type": "code",
   "execution_count": 45,
   "id": "b0e67203",
   "metadata": {
    "execution": {
     "iopub.execute_input": "2025-04-20T09:50:19.451328Z",
     "iopub.status.busy": "2025-04-20T09:50:19.451039Z",
     "iopub.status.idle": "2025-04-20T09:50:19.455704Z",
     "shell.execute_reply": "2025-04-20T09:50:19.455034Z"
    },
    "papermill": {
     "duration": 0.245809,
     "end_time": "2025-04-20T09:50:19.457007",
     "exception": false,
     "start_time": "2025-04-20T09:50:19.211198",
     "status": "completed"
    },
    "tags": []
   },
   "outputs": [],
   "source": [
    "def predict_sentiment(model ,review):\n",
    "\n",
    "    review = review.lower().strip()\n",
    "    review= Preprocess(review)\n",
    "    sequence = tokenizer.texts_to_sequences([review])\n",
    "    padded_sequence = pad_sequences(sequence, maxlen=200)\n",
    "    # Predict sentiment\n",
    "    prediction = model.predict(padded_sequence)\n",
    "    prob = prediction[0][0]\n",
    "    sentiment = \"positive\" if prob > 0.5 else \"negative\"\n",
    "    return sentiment, prob"
   ]
  },
  {
   "cell_type": "markdown",
   "id": "99041e47",
   "metadata": {
    "papermill": {
     "duration": 0.247233,
     "end_time": "2025-04-20T09:50:19.959419",
     "exception": false,
     "start_time": "2025-04-20T09:50:19.712186",
     "status": "completed"
    },
    "tags": []
   },
   "source": [
    "## Inputs"
   ]
  },
  {
   "cell_type": "code",
   "execution_count": 30,
   "id": "053a4c38",
   "metadata": {
    "execution": {
     "iopub.execute_input": "2025-04-20T09:50:20.493133Z",
     "iopub.status.busy": "2025-04-20T09:50:20.492834Z",
     "iopub.status.idle": "2025-04-20T09:50:20.642414Z",
     "shell.execute_reply": "2025-04-20T09:50:20.641673Z"
    },
    "papermill": {
     "duration": 0.438732,
     "end_time": "2025-04-20T09:50:20.643658",
     "exception": false,
     "start_time": "2025-04-20T09:50:20.204926",
     "status": "completed"
    },
    "tags": []
   },
   "outputs": [],
   "source": [
    "review = \"THis is great movie m but the ending is suspencefull .\"\n",
    "review2 =\"I am not going to watch this movie ever\""
   ]
  },
  {
   "cell_type": "code",
   "execution_count": 32,
   "id": "d362c0e6",
   "metadata": {},
   "outputs": [
    {
     "name": "stdout",
     "output_type": "stream",
     "text": [
      "\u001b[1m1/1\u001b[0m \u001b[32m━━━━━━━━━━━━━━━━━━━━\u001b[0m\u001b[37m\u001b[0m \u001b[1m0s\u001b[0m 45ms/step\n",
      "The sentiment of the review is: positive (confidence: 0.71)\n"
     ]
    }
   ],
   "source": [
    "sentiment, confidence = predict_sentiment(model ,review)\n",
    "print(f\"The sentiment of the review is: {sentiment} (confidence: {confidence:.2f})\")"
   ]
  },
  {
   "cell_type": "code",
   "execution_count": 34,
   "id": "2f5b89eb",
   "metadata": {
    "execution": {
     "iopub.execute_input": "2025-04-20T09:50:21.088247Z",
     "iopub.status.busy": "2025-04-20T09:50:21.087979Z",
     "iopub.status.idle": "2025-04-20T09:50:21.230330Z",
     "shell.execute_reply": "2025-04-20T09:50:21.229570Z"
    },
    "papermill": {
     "duration": 0.363116,
     "end_time": "2025-04-20T09:50:21.231538",
     "exception": false,
     "start_time": "2025-04-20T09:50:20.868422",
     "status": "completed"
    },
    "tags": []
   },
   "outputs": [
    {
     "name": "stdout",
     "output_type": "stream",
     "text": [
      "\u001b[1m1/1\u001b[0m \u001b[32m━━━━━━━━━━━━━━━━━━━━\u001b[0m\u001b[37m\u001b[0m \u001b[1m0s\u001b[0m 47ms/step\n",
      "The sentiment of the review is: negative (confidence: 0.33)\n"
     ]
    }
   ],
   "source": [
    "sentiment, confidence = predict_sentiment(model , review2)\n",
    "print(f\"The sentiment of the review is: {sentiment} (confidence: {confidence:.2f})\")"
   ]
  },
  {
   "cell_type": "code",
   "execution_count": null,
   "id": "8c2fce51",
   "metadata": {},
   "outputs": [],
   "source": []
  },
  {
   "cell_type": "markdown",
   "id": "4ef39e80",
   "metadata": {},
   "source": [
    "# TRANSFORMERSSSSs"
   ]
  },
  {
   "cell_type": "markdown",
   "id": "3df4138d",
   "metadata": {},
   "source": [
    "## Loading Libraries & Setting up variables"
   ]
  },
  {
   "cell_type": "code",
   "execution_count": 16,
   "id": "2a7e8212",
   "metadata": {},
   "outputs": [],
   "source": [
    "import torch\n",
    "import torch.nn as nn\n",
    "from torch.utils.data import DataLoader\n",
    "from datasets import load_dataset\n",
    "from collections import Counter\n",
    "from torch.nn.utils.rnn import pad_sequence\n",
    "import re\n",
    "from tensorflow.keras.preprocessing.text import one_hot, Tokenizer\n",
    "from tensorflow.keras.models import Sequential\n",
    "from tensorflow.keras.layers import Flatten, GlobalMaxPooling1D, Dense, Embedding, LSTM, GRU ,SpatialDropout1D\n",
    "import pandas.testing as tm\n",
    "import tensorflow as tf\n",
    "from tensorflow import keras\n",
    "from tensorflow.keras import layers"
   ]
  },
  {
   "cell_type": "code",
   "execution_count": 17,
   "id": "7633aa36",
   "metadata": {},
   "outputs": [],
   "source": [
    "vocab_size = 20000  \n",
    "maxlen = 200 \n",
    "batch_size = 32\n",
    "embed_dim = 32\n",
    "num_heads = 2 \n",
    "ff_dim = 64  # Hidden layer size in feed forward network inside transformer\n"
   ]
  },
  {
   "cell_type": "markdown",
   "id": "1eb01918",
   "metadata": {},
   "source": [
    "##  Training Blocks "
   ]
  },
  {
   "cell_type": "code",
   "execution_count": 37,
   "id": "a9134c93",
   "metadata": {},
   "outputs": [],
   "source": [
    "\n",
    "class TransformerBlock(layers.Layer):\n",
    "    def __init__(self, embed_dim, num_heads, ff_dim, rate=0.1, **kwargs):\n",
    "        super().__init__(**kwargs)\n",
    "        self.att = layers.MultiHeadAttention(num_heads=num_heads, key_dim=embed_dim)\n",
    "        self.ffn = keras.Sequential(\n",
    "            [layers.Dense(ff_dim, activation=\"relu\"), layers.Dense(embed_dim),]\n",
    "        )\n",
    "        self.layernorm1 = layers.LayerNormalization(epsilon=1e-6)\n",
    "        self.layernorm2 = layers.LayerNormalization(epsilon=1e-6)\n",
    "        self.dropout1 = layers.Dropout(rate)\n",
    "        self.dropout2 = layers.Dropout(rate)\n",
    "\n",
    "    def call(self, inputs, training=False):\n",
    "        attn_output = self.att(inputs, inputs)\n",
    "        attn_output = self.dropout1(attn_output, training=training)\n",
    "        out1 = self.layernorm1(inputs + attn_output)\n",
    "        ffn_output = self.ffn(out1)\n",
    "        ffn_output = self.dropout2(ffn_output, training=training)\n",
    "        return self.layernorm2(out1 + ffn_output)\n",
    "\n",
    "    \n",
    "class TokenAndPositionEmbedding(layers.Layer):\n",
    "    def __init__(self, maxlen, vocab_size, embed_dim, embedding_matrix=None, trainable=False, **kwargs):\n",
    "        super().__init__(**kwargs)\n",
    "\n",
    "     \n",
    "        if embedding_matrix is not None:\n",
    "            self.token_emb = layers.Embedding(\n",
    "                input_dim=vocab_size,\n",
    "                output_dim=embed_dim,\n",
    "                weights=[embedding_matrix], \n",
    "                trainable=trainable         )\n",
    "        else:\n",
    "          \n",
    "            self.token_emb = layers.Embedding(input_dim=vocab_size, output_dim=embed_dim)\n",
    "        \n",
    "    \n",
    "        self.pos_emb = layers.Embedding(input_dim=maxlen, output_dim=embed_dim)\n",
    "\n",
    "    def call(self, x):\n",
    "      \n",
    "        maxlen = tf.shape(x)[-1]\n",
    "        positions = tf.range(start=0, limit=maxlen, delta=1)\n",
    "        positions = self.pos_emb(positions)\n",
    "        \n",
    "      \n",
    "        x = self.token_emb(x)\n",
    "        \n",
    "  \n",
    "        return x + positions\n",
    "\n",
    "def create_embedding_matrix(word_index, embeddings_index, embedding_dim, vocab_size):\n",
    "    embedding_matrix = np.zeros((vocab_size, embedding_dim))\n",
    "    for word, i in word_index.items():\n",
    "        if i >= vocab_size:\n",
    "            continue\n",
    "        embedding_vector = embeddings_index.get(word)\n",
    "        if embedding_vector is not None:\n",
    "            embedding_matrix[i] = embedding_vector\n",
    "    return embedding_matrix\n",
    "\n",
    "def load_glove_embeddings(glove_file_path, embedding_dim):\n",
    "    embeddings_index = {}\n",
    "    with open(glove_file_path, encoding='utf8') as f:\n",
    "        for line in f:\n",
    "            values = line.split()\n",
    "            word = values[0]\n",
    "            vector = np.asarray(values[1:], dtype='float32')\n",
    "            embeddings_index[word] = vector\n",
    "    print(f\"Loaded {len(embeddings_index)} word vectors from GloVe.\")\n",
    "    return embeddings_index\n"
   ]
  },
  {
   "cell_type": "markdown",
   "id": "d7d8bff9",
   "metadata": {},
   "source": [
    "##  Data is being used which is used in LSTM training above . "
   ]
  },
  {
   "cell_type": "code",
   "execution_count": 40,
   "id": "1da53b80",
   "metadata": {},
   "outputs": [
    {
     "data": {
      "text/html": [
       "<div>\n",
       "<style scoped>\n",
       "    .dataframe tbody tr th:only-of-type {\n",
       "        vertical-align: middle;\n",
       "    }\n",
       "\n",
       "    .dataframe tbody tr th {\n",
       "        vertical-align: top;\n",
       "    }\n",
       "\n",
       "    .dataframe thead th {\n",
       "        text-align: right;\n",
       "    }\n",
       "</style>\n",
       "<table border=\"1\" class=\"dataframe\">\n",
       "  <thead>\n",
       "    <tr style=\"text-align: right;\">\n",
       "      <th></th>\n",
       "      <th>review</th>\n",
       "      <th>sentiment</th>\n",
       "    </tr>\n",
       "  </thead>\n",
       "  <tbody>\n",
       "    <tr>\n",
       "      <th>0</th>\n",
       "      <td>One of the other reviewers has mentioned that ...</td>\n",
       "      <td>1</td>\n",
       "    </tr>\n",
       "    <tr>\n",
       "      <th>1</th>\n",
       "      <td>A wonderful little production The filming tech...</td>\n",
       "      <td>1</td>\n",
       "    </tr>\n",
       "    <tr>\n",
       "      <th>2</th>\n",
       "      <td>I thought this was wonderful way to spend time...</td>\n",
       "      <td>1</td>\n",
       "    </tr>\n",
       "    <tr>\n",
       "      <th>3</th>\n",
       "      <td>Basically there a family where little boy Jake...</td>\n",
       "      <td>0</td>\n",
       "    </tr>\n",
       "    <tr>\n",
       "      <th>4</th>\n",
       "      <td>Petter Mattei Love in the Time of Money is vis...</td>\n",
       "      <td>1</td>\n",
       "    </tr>\n",
       "  </tbody>\n",
       "</table>\n",
       "</div>"
      ],
      "text/plain": [
       "                                              review  sentiment\n",
       "0  One of the other reviewers has mentioned that ...          1\n",
       "1  A wonderful little production The filming tech...          1\n",
       "2  I thought this was wonderful way to spend time...          1\n",
       "3  Basically there a family where little boy Jake...          0\n",
       "4  Petter Mattei Love in the Time of Money is vis...          1"
      ]
     },
     "execution_count": 40,
     "metadata": {},
     "output_type": "execute_result"
    }
   ],
   "source": [
    "data.head()"
   ]
  },
  {
   "cell_type": "markdown",
   "id": "2032e398",
   "metadata": {},
   "source": [
    "## Initiating tokenizer"
   ]
  },
  {
   "cell_type": "code",
   "execution_count": 19,
   "id": "fcd6b2ae",
   "metadata": {},
   "outputs": [],
   "source": [
    "vocab_size = 20000\n",
    "maxlen = 200\n",
    "embedding_dim = 100 \n",
    "\n",
    "train_texts, val_texts, train_labels, val_labels = train_test_split(\n",
    "    data['review'].values, data['sentiment'].values, test_size=0.2, random_state=42\n",
    ")\n",
    "tokenizer = Tokenizer(num_words=vocab_size, oov_token=\"<OOV>\")\n",
    "tokenizer.fit_on_texts(train_texts)\n",
    "\n",
    "X_train = tokenizer.texts_to_sequences(train_texts)\n",
    "X_val = tokenizer.texts_to_sequences(val_texts)\n",
    "\n",
    "X_train = pad_sequences(X_train, maxlen=maxlen, padding='post')\n",
    "X_val = pad_sequences(X_val, maxlen=maxlen, padding='post')\n",
    "\n",
    "y_train = np.array(train_labels)\n",
    "y_val = np.array(val_labels)\n"
   ]
  },
  {
   "cell_type": "markdown",
   "id": "27b45835",
   "metadata": {},
   "source": [
    "## Embeddings"
   ]
  },
  {
   "cell_type": "code",
   "execution_count": 20,
   "id": "122d605f",
   "metadata": {},
   "outputs": [],
   "source": [
    "def load_glove_embeddings(glove_file_path, embedding_dim):\n",
    "    embeddings_index = {}\n",
    "    with open(glove_file_path, encoding='utf8') as f:\n",
    "        for line in f:\n",
    "            values = line.split()\n",
    "            word = values[0]\n",
    "            vector = np.asarray(values[1:], dtype='float32')\n",
    "            embeddings_index[word] = vector\n",
    "    return embeddings_index\n",
    "\n",
    "def create_embedding_matrix(word_index, embeddings_index, embedding_dim, vocab_size):\n",
    "    embedding_matrix = np.zeros((vocab_size, embedding_dim))\n",
    "    for word, i in word_index.items():\n",
    "        if i >= vocab_size:\n",
    "            continue\n",
    "        embedding_vector = embeddings_index.get(word)\n",
    "        if embedding_vector is not None:\n",
    "            embedding_matrix[i] = embedding_vector\n",
    "    return embedding_matrix\n",
    "\n",
    "# Load GloVe\n",
    "glove_path = 'embedding/glove.6B.100d.txt'  # Change this path if needed\n",
    "embeddings_index = load_glove_embeddings(glove_path, embedding_dim)\n",
    "\n",
    "# Create embedding matrix\n",
    "embedding_matrix = create_embedding_matrix(tokenizer.word_index, embeddings_index, embedding_dim, vocab_size)\n"
   ]
  },
  {
   "cell_type": "code",
   "execution_count": 39,
   "id": "b17df2fb",
   "metadata": {},
   "outputs": [
    {
     "data": {
      "text/plain": [
       "(100, 20000)"
      ]
     },
     "execution_count": 39,
     "metadata": {},
     "output_type": "execute_result"
    }
   ],
   "source": [
    "len(embedding_matrix[0]) , len(embedding_matrix)"
   ]
  },
  {
   "cell_type": "code",
   "execution_count": 30,
   "id": "9e04f4b6",
   "metadata": {},
   "outputs": [
    {
     "data": {
      "text/plain": [
       "array([-0.1529    , -0.24279   ,  0.89837003,  0.16996001,  0.53516001,\n",
       "        0.48784   , -0.58825999, -0.17982   , -1.35810006,  0.42541   ,\n",
       "        0.15377   ,  0.24214999,  0.13474   ,  0.41192999,  0.67043   ,\n",
       "       -0.56418002,  0.42985001, -0.012183  , -0.11677   ,  0.31781   ,\n",
       "        0.054177  , -0.054273  ,  0.35516   , -0.30241001,  0.31434   ,\n",
       "       -0.33846   ,  0.71714997, -0.26855001, -0.15837   , -0.47466999,\n",
       "        0.051581  , -0.33252001,  0.15003   , -0.12989999, -0.54617   ,\n",
       "       -0.37843001,  0.64261001,  0.82187003, -0.080006  ,  0.078479  ,\n",
       "       -0.96976   , -0.57740998,  0.56490999, -0.39873001, -0.057099  ,\n",
       "        0.19743   ,  0.065706  , -0.48091999, -0.20125   , -0.40834001,\n",
       "        0.39456001, -0.02642   , -0.11838   ,  1.01199996, -0.53171003,\n",
       "       -2.74740005, -0.042981  , -0.74848998,  1.75740004,  0.59085   ,\n",
       "        0.04885   ,  0.78267002,  0.38497001,  0.42096999,  0.67882001,\n",
       "        0.10337   ,  0.63279998, -0.026595  ,  0.58647001, -0.44332001,\n",
       "        0.33057001, -0.12022   , -0.55645001,  0.073611  ,  0.20915   ,\n",
       "        0.43395001, -0.012761  ,  0.089874  , -1.79910004,  0.084808  ,\n",
       "        0.77112001,  0.63104999, -0.90684998,  0.60325998, -1.75150001,\n",
       "        0.18595999, -0.50686997, -0.70203   ,  0.66578001, -0.81304002,\n",
       "        0.18712001, -0.018488  , -0.26756999,  0.727     , -0.59363002,\n",
       "       -0.34839001, -0.56094003, -0.59100002,  1.00390005,  0.20664001])"
      ]
     },
     "execution_count": 30,
     "metadata": {},
     "output_type": "execute_result"
    }
   ],
   "source": [
    "embedding_matrix[4]"
   ]
  },
  {
   "cell_type": "markdown",
   "id": "abe02a13",
   "metadata": {},
   "source": [
    "## Transformer Block"
   ]
  },
  {
   "cell_type": "code",
   "execution_count": 78,
   "id": "2e858f70",
   "metadata": {},
   "outputs": [],
   "source": [
    "from tensorflow.keras import layers\n",
    "\n",
    "class TransformerBlock(layers.Layer):\n",
    "    def __init__(self, embed_dim, num_heads, ff_dim, rate=0.1):\n",
    "        super().__init__()\n",
    "        self.att = layers.MultiHeadAttention(num_heads=num_heads, key_dim=embed_dim)\n",
    "        self.ffn = keras.Sequential([\n",
    "            layers.Dense(ff_dim, activation=\"relu\"),\n",
    "            layers.Dense(embed_dim),\n",
    "        ])\n",
    "        self.layernorm1 = layers.LayerNormalization(epsilon=1e-6)\n",
    "        self.layernorm2 = layers.LayerNormalization(epsilon=1e-6)\n",
    "        self.dropout1 = layers.Dropout(rate)\n",
    "        self.dropout2 = layers.Dropout(rate)\n",
    "\n",
    "    def call(self, inputs, training=False):\n",
    "        attn_output = self.att(inputs, inputs)\n",
    "        attn_output = self.dropout1(attn_output, training=training)\n",
    "        out1 = self.layernorm1(inputs + attn_output)\n",
    "        ffn_output = self.ffn(out1)\n",
    "        ffn_output = self.dropout2(ffn_output, training=training)\n",
    "        return self.layernorm2(out1 + ffn_output)\n",
    "    \n",
    "    \n",
    "\n",
    "class TokenAndPositionEmbedding(layers.Layer):\n",
    "    def __init__(self, maxlen, vocab_size, embed_dim, embedding_matrix=None, trainable=False):\n",
    "        super().__init__()\n",
    "        if embedding_matrix is not None:\n",
    "            self.token_emb = layers.Embedding(\n",
    "                input_dim=vocab_size,\n",
    "                output_dim=embed_dim,\n",
    "                weights=[embedding_matrix],\n",
    "                trainable=trainable\n",
    "            )\n",
    "        else:\n",
    "            self.token_emb = layers.Embedding(input_dim=vocab_size, output_dim=embed_dim)\n",
    "        self.pos_emb = layers.Embedding(input_dim=maxlen, output_dim=embed_dim)\n",
    "    \n",
    "    def get_config(self):\n",
    "        config = super().get_config()\n",
    "        config.update({\n",
    "            \"maxlen\": self.maxlen,\n",
    "            \"vocab_size\": self.vocab_size,\n",
    "            \"embed_dim\": self.embed_dim,\n",
    "            \"trainable\": self.trainable_embedding,\n",
    "            \n",
    "        })\n",
    "        return config\n",
    "\n",
    "    \n",
    "    def call(self, x):\n",
    "        positions = tf.range(start=0, limit=tf.shape(x)[-1], delta=1)\n",
    "        positions = self.pos_emb(positions)\n",
    "        x = self.token_emb(x)\n",
    "        return x + positions\n",
    "    \n",
    "    \n"
   ]
  },
  {
   "cell_type": "code",
   "execution_count": 34,
   "id": "26616ea3",
   "metadata": {},
   "outputs": [],
   "source": [
    "# Compiling the Model"
   ]
  },
  {
   "cell_type": "code",
   "execution_count": 85,
   "id": "7e9a4d9d",
   "metadata": {},
   "outputs": [
    {
     "data": {
      "text/html": [
       "<pre style=\"white-space:pre;overflow-x:auto;line-height:normal;font-family:Menlo,'DejaVu Sans Mono',consolas,'Courier New',monospace\"><span style=\"font-weight: bold\">Model: \"functional_3\"</span>\n",
       "</pre>\n"
      ],
      "text/plain": [
       "\u001b[1mModel: \"functional_3\"\u001b[0m\n"
      ]
     },
     "metadata": {},
     "output_type": "display_data"
    },
    {
     "data": {
      "text/html": [
       "<pre style=\"white-space:pre;overflow-x:auto;line-height:normal;font-family:Menlo,'DejaVu Sans Mono',consolas,'Courier New',monospace\">┏━━━━━━━━━━━━━━━━━━━━━━━━━━━━━━━━━┳━━━━━━━━━━━━━━━━━━━━━━━━┳━━━━━━━━━━━━━━━┓\n",
       "┃<span style=\"font-weight: bold\"> Layer (type)                    </span>┃<span style=\"font-weight: bold\"> Output Shape           </span>┃<span style=\"font-weight: bold\">       Param # </span>┃\n",
       "┡━━━━━━━━━━━━━━━━━━━━━━━━━━━━━━━━━╇━━━━━━━━━━━━━━━━━━━━━━━━╇━━━━━━━━━━━━━━━┩\n",
       "│ input_layer_2 (<span style=\"color: #0087ff; text-decoration-color: #0087ff\">InputLayer</span>)      │ (<span style=\"color: #00d7ff; text-decoration-color: #00d7ff\">None</span>, <span style=\"color: #00af00; text-decoration-color: #00af00\">200</span>)            │             <span style=\"color: #00af00; text-decoration-color: #00af00\">0</span> │\n",
       "├─────────────────────────────────┼────────────────────────┼───────────────┤\n",
       "│ token_and_position_embedding_1  │ (<span style=\"color: #00d7ff; text-decoration-color: #00d7ff\">None</span>, <span style=\"color: #00af00; text-decoration-color: #00af00\">200</span>, <span style=\"color: #00af00; text-decoration-color: #00af00\">100</span>)       │     <span style=\"color: #00af00; text-decoration-color: #00af00\">2,020,000</span> │\n",
       "│ (<span style=\"color: #0087ff; text-decoration-color: #0087ff\">TokenAndPositionEmbedding</span>)     │                        │               │\n",
       "├─────────────────────────────────┼────────────────────────┼───────────────┤\n",
       "│ transformer_block_1             │ (<span style=\"color: #00d7ff; text-decoration-color: #00d7ff\">None</span>, <span style=\"color: #00af00; text-decoration-color: #00af00\">200</span>, <span style=\"color: #00af00; text-decoration-color: #00af00\">100</span>)       │        <span style=\"color: #00af00; text-decoration-color: #00af00\">94,064</span> │\n",
       "│ (<span style=\"color: #0087ff; text-decoration-color: #0087ff\">TransformerBlock</span>)              │                        │               │\n",
       "├─────────────────────────────────┼────────────────────────┼───────────────┤\n",
       "│ global_average_pooling1d_1      │ (<span style=\"color: #00d7ff; text-decoration-color: #00d7ff\">None</span>, <span style=\"color: #00af00; text-decoration-color: #00af00\">100</span>)            │             <span style=\"color: #00af00; text-decoration-color: #00af00\">0</span> │\n",
       "│ (<span style=\"color: #0087ff; text-decoration-color: #0087ff\">GlobalAveragePooling1D</span>)        │                        │               │\n",
       "├─────────────────────────────────┼────────────────────────┼───────────────┤\n",
       "│ dropout_8 (<span style=\"color: #0087ff; text-decoration-color: #0087ff\">Dropout</span>)             │ (<span style=\"color: #00d7ff; text-decoration-color: #00d7ff\">None</span>, <span style=\"color: #00af00; text-decoration-color: #00af00\">100</span>)            │             <span style=\"color: #00af00; text-decoration-color: #00af00\">0</span> │\n",
       "├─────────────────────────────────┼────────────────────────┼───────────────┤\n",
       "│ dense_6 (<span style=\"color: #0087ff; text-decoration-color: #0087ff\">Dense</span>)                 │ (<span style=\"color: #00d7ff; text-decoration-color: #00d7ff\">None</span>, <span style=\"color: #00af00; text-decoration-color: #00af00\">20</span>)             │         <span style=\"color: #00af00; text-decoration-color: #00af00\">2,020</span> │\n",
       "├─────────────────────────────────┼────────────────────────┼───────────────┤\n",
       "│ dropout_9 (<span style=\"color: #0087ff; text-decoration-color: #0087ff\">Dropout</span>)             │ (<span style=\"color: #00d7ff; text-decoration-color: #00d7ff\">None</span>, <span style=\"color: #00af00; text-decoration-color: #00af00\">20</span>)             │             <span style=\"color: #00af00; text-decoration-color: #00af00\">0</span> │\n",
       "├─────────────────────────────────┼────────────────────────┼───────────────┤\n",
       "│ dense_7 (<span style=\"color: #0087ff; text-decoration-color: #0087ff\">Dense</span>)                 │ (<span style=\"color: #00d7ff; text-decoration-color: #00d7ff\">None</span>, <span style=\"color: #00af00; text-decoration-color: #00af00\">1</span>)              │            <span style=\"color: #00af00; text-decoration-color: #00af00\">21</span> │\n",
       "└─────────────────────────────────┴────────────────────────┴───────────────┘\n",
       "</pre>\n"
      ],
      "text/plain": [
       "┏━━━━━━━━━━━━━━━━━━━━━━━━━━━━━━━━━┳━━━━━━━━━━━━━━━━━━━━━━━━┳━━━━━━━━━━━━━━━┓\n",
       "┃\u001b[1m \u001b[0m\u001b[1mLayer (type)                   \u001b[0m\u001b[1m \u001b[0m┃\u001b[1m \u001b[0m\u001b[1mOutput Shape          \u001b[0m\u001b[1m \u001b[0m┃\u001b[1m \u001b[0m\u001b[1m      Param #\u001b[0m\u001b[1m \u001b[0m┃\n",
       "┡━━━━━━━━━━━━━━━━━━━━━━━━━━━━━━━━━╇━━━━━━━━━━━━━━━━━━━━━━━━╇━━━━━━━━━━━━━━━┩\n",
       "│ input_layer_2 (\u001b[38;5;33mInputLayer\u001b[0m)      │ (\u001b[38;5;45mNone\u001b[0m, \u001b[38;5;34m200\u001b[0m)            │             \u001b[38;5;34m0\u001b[0m │\n",
       "├─────────────────────────────────┼────────────────────────┼───────────────┤\n",
       "│ token_and_position_embedding_1  │ (\u001b[38;5;45mNone\u001b[0m, \u001b[38;5;34m200\u001b[0m, \u001b[38;5;34m100\u001b[0m)       │     \u001b[38;5;34m2,020,000\u001b[0m │\n",
       "│ (\u001b[38;5;33mTokenAndPositionEmbedding\u001b[0m)     │                        │               │\n",
       "├─────────────────────────────────┼────────────────────────┼───────────────┤\n",
       "│ transformer_block_1             │ (\u001b[38;5;45mNone\u001b[0m, \u001b[38;5;34m200\u001b[0m, \u001b[38;5;34m100\u001b[0m)       │        \u001b[38;5;34m94,064\u001b[0m │\n",
       "│ (\u001b[38;5;33mTransformerBlock\u001b[0m)              │                        │               │\n",
       "├─────────────────────────────────┼────────────────────────┼───────────────┤\n",
       "│ global_average_pooling1d_1      │ (\u001b[38;5;45mNone\u001b[0m, \u001b[38;5;34m100\u001b[0m)            │             \u001b[38;5;34m0\u001b[0m │\n",
       "│ (\u001b[38;5;33mGlobalAveragePooling1D\u001b[0m)        │                        │               │\n",
       "├─────────────────────────────────┼────────────────────────┼───────────────┤\n",
       "│ dropout_8 (\u001b[38;5;33mDropout\u001b[0m)             │ (\u001b[38;5;45mNone\u001b[0m, \u001b[38;5;34m100\u001b[0m)            │             \u001b[38;5;34m0\u001b[0m │\n",
       "├─────────────────────────────────┼────────────────────────┼───────────────┤\n",
       "│ dense_6 (\u001b[38;5;33mDense\u001b[0m)                 │ (\u001b[38;5;45mNone\u001b[0m, \u001b[38;5;34m20\u001b[0m)             │         \u001b[38;5;34m2,020\u001b[0m │\n",
       "├─────────────────────────────────┼────────────────────────┼───────────────┤\n",
       "│ dropout_9 (\u001b[38;5;33mDropout\u001b[0m)             │ (\u001b[38;5;45mNone\u001b[0m, \u001b[38;5;34m20\u001b[0m)             │             \u001b[38;5;34m0\u001b[0m │\n",
       "├─────────────────────────────────┼────────────────────────┼───────────────┤\n",
       "│ dense_7 (\u001b[38;5;33mDense\u001b[0m)                 │ (\u001b[38;5;45mNone\u001b[0m, \u001b[38;5;34m1\u001b[0m)              │            \u001b[38;5;34m21\u001b[0m │\n",
       "└─────────────────────────────────┴────────────────────────┴───────────────┘\n"
      ]
     },
     "metadata": {},
     "output_type": "display_data"
    },
    {
     "data": {
      "text/html": [
       "<pre style=\"white-space:pre;overflow-x:auto;line-height:normal;font-family:Menlo,'DejaVu Sans Mono',consolas,'Courier New',monospace\"><span style=\"font-weight: bold\"> Total params: </span><span style=\"color: #00af00; text-decoration-color: #00af00\">2,116,105</span> (8.07 MB)\n",
       "</pre>\n"
      ],
      "text/plain": [
       "\u001b[1m Total params: \u001b[0m\u001b[38;5;34m2,116,105\u001b[0m (8.07 MB)\n"
      ]
     },
     "metadata": {},
     "output_type": "display_data"
    },
    {
     "data": {
      "text/html": [
       "<pre style=\"white-space:pre;overflow-x:auto;line-height:normal;font-family:Menlo,'DejaVu Sans Mono',consolas,'Courier New',monospace\"><span style=\"font-weight: bold\"> Trainable params: </span><span style=\"color: #00af00; text-decoration-color: #00af00\">116,105</span> (453.54 KB)\n",
       "</pre>\n"
      ],
      "text/plain": [
       "\u001b[1m Trainable params: \u001b[0m\u001b[38;5;34m116,105\u001b[0m (453.54 KB)\n"
      ]
     },
     "metadata": {},
     "output_type": "display_data"
    },
    {
     "data": {
      "text/html": [
       "<pre style=\"white-space:pre;overflow-x:auto;line-height:normal;font-family:Menlo,'DejaVu Sans Mono',consolas,'Courier New',monospace\"><span style=\"font-weight: bold\"> Non-trainable params: </span><span style=\"color: #00af00; text-decoration-color: #00af00\">2,000,000</span> (7.63 MB)\n",
       "</pre>\n"
      ],
      "text/plain": [
       "\u001b[1m Non-trainable params: \u001b[0m\u001b[38;5;34m2,000,000\u001b[0m (7.63 MB)\n"
      ]
     },
     "metadata": {},
     "output_type": "display_data"
    }
   ],
   "source": [
    "inputs = layers.Input(shape=(maxlen,))\n",
    "x = TokenAndPositionEmbedding(maxlen, vocab_size, embedding_dim, embedding_matrix, trainable=False)(inputs)\n",
    "x = TransformerBlock(embed_dim=embedding_dim, num_heads=2, ff_dim=64)(x)\n",
    "x = layers.GlobalAveragePooling1D()(x)\n",
    "x = layers.Dropout(0.2)(x)\n",
    "x = layers.Dense(20, activation=\"relu\")(x)\n",
    "x = layers.Dropout(0.2)(x)\n",
    "outputs = layers.Dense(1, activation=\"sigmoid\")(x)\n",
    "\n",
    "model = keras.Model(inputs=inputs, outputs=outputs)\n",
    "model.compile(optimizer=\"adam\", loss=\"binary_crossentropy\", metrics=[\"accuracy\"])\n",
    "model.summary()\n",
    "\n"
   ]
  },
  {
   "cell_type": "code",
   "execution_count": 33,
   "id": "05f5a4be",
   "metadata": {},
   "outputs": [
    {
     "name": "stdout",
     "output_type": "stream",
     "text": [
      "Epoch 1/5\n",
      "\u001b[1m1245/1245\u001b[0m \u001b[32m━━━━━━━━━━━━━━━━━━━━\u001b[0m\u001b[37m\u001b[0m \u001b[1m95s\u001b[0m 75ms/step - accuracy: 0.7495 - loss: 0.4901 - val_accuracy: 0.8397 - val_loss: 0.3741\n",
      "Epoch 2/5\n",
      "\u001b[1m1245/1245\u001b[0m \u001b[32m━━━━━━━━━━━━━━━━━━━━\u001b[0m\u001b[37m\u001b[0m \u001b[1m96s\u001b[0m 77ms/step - accuracy: 0.8438 - loss: 0.3610 - val_accuracy: 0.8398 - val_loss: 0.3703\n",
      "Epoch 3/5\n",
      "\u001b[1m1245/1245\u001b[0m \u001b[32m━━━━━━━━━━━━━━━━━━━━\u001b[0m\u001b[37m\u001b[0m \u001b[1m98s\u001b[0m 79ms/step - accuracy: 0.8442 - loss: 0.3559 - val_accuracy: 0.8424 - val_loss: 0.3585\n",
      "Epoch 4/5\n",
      "\u001b[1m1245/1245\u001b[0m \u001b[32m━━━━━━━━━━━━━━━━━━━━\u001b[0m\u001b[37m\u001b[0m \u001b[1m104s\u001b[0m 84ms/step - accuracy: 0.8497 - loss: 0.3452 - val_accuracy: 0.8462 - val_loss: 0.3486\n",
      "Epoch 5/5\n",
      "\u001b[1m1245/1245\u001b[0m \u001b[32m━━━━━━━━━━━━━━━━━━━━\u001b[0m\u001b[37m\u001b[0m \u001b[1m104s\u001b[0m 84ms/step - accuracy: 0.8559 - loss: 0.3358 - val_accuracy: 0.8534 - val_loss: 0.3357\n"
     ]
    }
   ],
   "source": [
    "history = model.fit(X_train, y_train, validation_data=(X_val, y_val), epochs=5, batch_size=32)\n"
   ]
  },
  {
   "cell_type": "code",
   "execution_count": 51,
   "id": "4552b7ba",
   "metadata": {},
   "outputs": [
    {
     "data": {
      "image/png": "[encoded data removed]",
      "text/plain": [
       "<Figure size 1200x500 with 2 Axes>"
      ]
     },
     "metadata": {},
     "output_type": "display_data"
    }
   ],
   "source": [
    "import matplotlib.pyplot as plt\n",
    "\n",
    "\n",
    "plt.figure(figsize=(12, 5))\n",
    "plt.subplot(1, 2, 1)\n",
    "plt.plot(history.history['accuracy'], label='Train Accuracy', marker='o')\n",
    "plt.plot(history.history['val_accuracy'], label='Val Accuracy', linestyle='--', marker='o') \n",
    "plt.title('Accuracy over Epochs')\n",
    "plt.xlabel('Epoch')\n",
    "plt.ylabel('Accuracy')\n",
    "plt.legend()\n",
    "plt.grid(True)\n",
    "\n",
    "# Loss\n",
    "plt.subplot(1, 2, 2)\n",
    "plt.plot(history.history['loss'], label='Train Loss', marker='o')\n",
    "plt.plot(history.history['val_loss'], label='Val Loss', linestyle='--', marker='o')  \n",
    "plt.title('Loss over Epochs')\n",
    "plt.xlabel('Epoch')\n",
    "plt.ylabel('Loss')\n",
    "plt.legend()\n",
    "plt.grid(True)\n",
    "\n",
    "plt.tight_layout()\n",
    "plt.show()"
   ]
  },
  {
   "cell_type": "markdown",
   "id": "04dde55f",
   "metadata": {},
   "source": [
    "## Evaluating model on the data used earlier "
   ]
  },
  {
   "cell_type": "code",
   "execution_count": 42,
   "id": "9025988c",
   "metadata": {},
   "outputs": [
    {
     "name": "stdout",
     "output_type": "stream",
     "text": [
      "\u001b[1m7/7\u001b[0m \u001b[32m━━━━━━━━━━━━━━━━━━━━\u001b[0m\u001b[37m\u001b[0m \u001b[1m0s\u001b[0m 46ms/step\n"
     ]
    },
    {
     "data": {
      "image/png": "[encoded data removed]",
      "text/plain": [
       "<Figure size 600x400 with 2 Axes>"
      ]
     },
     "metadata": {},
     "output_type": "display_data"
    }
   ],
   "source": [
    "from sklearn.metrics import confusion_matrix, ConfusionMatrixDisplay\n",
    "import seaborn as sns\n",
    "import matplotlib.pyplot as plt\n",
    "\n",
    "\n",
    "y_pred_probs = model.predict(text)\n",
    "y_pred = (y_pred_probs > 0.5).astype(\"int32\")\n",
    "\n",
    "# Create confusion matrix\n",
    "cm = confusion_matrix(labels, y_pred)\n",
    "\n",
    "# Display with seaborn heatmap\n",
    "plt.figure(figsize=(6, 4))\n",
    "sns.heatmap(cm, annot=True, fmt='d', cmap='Blues', xticklabels=[\"Negative\", \"Positive\"], yticklabels=[\"Negative\", \"Positive\"])\n",
    "plt.xlabel(\"Predicted\")\n",
    "plt.ylabel(\"Actual\")\n",
    "plt.title(\"Confusion Matrix\")\n",
    "plt.show()"
   ]
  },
  {
   "cell_type": "markdown",
   "id": "8a792219",
   "metadata": {},
   "source": [
    "# Inferencing "
   ]
  },
  {
   "cell_type": "code",
   "execution_count": 49,
   "id": "5edf0098",
   "metadata": {},
   "outputs": [],
   "source": [
    "sample = \"i love this movie \"\n",
    "sample2 = \"This is disgusting movie , Made me feel sick\"\n",
    "sample3 =\"This movie is a inspirational work of art which many recent movies dont do\"\n"
   ]
  },
  {
   "cell_type": "code",
   "execution_count": 50,
   "id": "f4a19b91",
   "metadata": {},
   "outputs": [
    {
     "name": "stdout",
     "output_type": "stream",
     "text": [
      "\u001b[1m1/1\u001b[0m \u001b[32m━━━━━━━━━━━━━━━━━━━━\u001b[0m\u001b[37m\u001b[0m \u001b[1m0s\u001b[0m 34ms/step\n",
      "The sentiment of the review is: positive (confidence: 0.79)\n"
     ]
    }
   ],
   "source": [
    "sentiment, confidence = predict_sentiment(model ,sample)\n",
    "print(f\"The sentiment of the review is: {sentiment} (confidence: {confidence:.2f})\")"
   ]
  },
  {
   "cell_type": "code",
   "execution_count": 47,
   "id": "da0a4740",
   "metadata": {},
   "outputs": [
    {
     "name": "stdout",
     "output_type": "stream",
     "text": [
      "\u001b[1m1/1\u001b[0m \u001b[32m━━━━━━━━━━━━━━━━━━━━\u001b[0m\u001b[37m\u001b[0m \u001b[1m0s\u001b[0m 31ms/step\n",
      "The sentiment of the review is: negative (confidence: 0.01)\n"
     ]
    }
   ],
   "source": [
    "sentiment, confidence = predict_sentiment(model ,sample2)\n",
    "print(f\"The sentiment of the review is: {sentiment} (confidence: {confidence:.2f})\")"
   ]
  },
  {
   "cell_type": "code",
   "execution_count": 48,
   "id": "118c6900",
   "metadata": {},
   "outputs": [
    {
     "name": "stdout",
     "output_type": "stream",
     "text": [
      "\u001b[1m1/1\u001b[0m \u001b[32m━━━━━━━━━━━━━━━━━━━━\u001b[0m\u001b[37m\u001b[0m \u001b[1m0s\u001b[0m 30ms/step\n",
      "The sentiment of the review is: positive (confidence: 0.82)\n"
     ]
    }
   ],
   "source": [
    "sentiment, confidence = predict_sentiment(model ,sample3)\n",
    "print(f\"The sentiment of the review is: {sentiment} (confidence: {confidence:.2f})\")"
   ]
  },
  {
   "cell_type": "code",
   "execution_count": 53,
   "id": "71ec6f4f",
   "metadata": {},
   "outputs": [],
   "source": [
    "# print(tokenizer.word_index.get(\"inspirational\"))\n",
    "# print(tokenizer.word_index.get(\"hate\"))"
   ]
  },
  {
   "cell_type": "markdown",
   "id": "b9bf9b25",
   "metadata": {},
   "source": [
    "## Sving the model"
   ]
  },
  {
   "cell_type": "code",
   "execution_count": 86,
   "id": "bbec7265",
   "metadata": {},
   "outputs": [],
   "source": [
    "from tensorflow.keras.utils import get_custom_objects\n",
    "\n",
    "# get_custom_objects().update({'TokenAndPositionEmbedding': TokenAndPositionEmbedding})\n",
    "\n",
    "model.save(\"Model/sentiment_transformer_model.keras\")\n"
   ]
  }
 ],
 "metadata": {
  "kaggle": {
   "accelerator": "nvidiaTeslaT4",
   "dataSources": [
    {
     "datasetId": 134715,
     "sourceId": 320111,
     "sourceType": "datasetVersion"
    }
   ],
   "dockerImageVersionId": 31011,
   "isGpuEnabled": true,
   "isInternetEnabled": true,
   "language": "python",
   "sourceType": "notebook"
  },
  "kernelspec": {
   "display_name": "Python 3 (ipykernel)",
   "language": "python",
   "name": "python3"
  },
  "language_info": {
   "codemirror_mode": {
    "name": "ipython",
    "version": 3
   },
   "file_extension": ".py",
   "mimetype": "text/x-python",
   "name": "python",
   "nbconvert_exporter": "python",
   "pygments_lexer": "ipython3",
   "version": "3.11.4"
  },
  "papermill": {
   "default_parameters": {},
   "duration": 1143.015616,
   "end_time": "2025-04-20T09:50:25.471454",
   "environment_variables": {},
   "exception": null,
   "input_path": "__notebook__.ipynb",
   "output_path": "__notebook__.ipynb",
   "parameters": {},
   "start_time": "2025-04-20T09:31:22.455838",
   "version": "2.6.0"
  }
 },
 "nbformat": 4,
 "nbformat_minor": 5
}
